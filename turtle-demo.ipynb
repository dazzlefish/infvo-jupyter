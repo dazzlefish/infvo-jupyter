{
 "cells": [
  {
   "cell_type": "markdown",
   "metadata": {},
   "source": [
    "# Turtle graphics\n",
    "\n",
    "Dit notebook bevat voorbeelden van Turtle graphics, wat goed te gebruiken is om leerlingen de eerste beginselen van het programmeren bij te brengen. Dit notebook is niet bedoeld als  cursus programmeren.\n",
    "\n",
    "We gebruiken de Canvas-library, en een eenvoudige Turtle-module die daarop gebaseerd is. (Zie turtle.py)"
   ]
  },
  {
   "cell_type": "code",
   "execution_count": null,
   "metadata": {},
   "outputs": [],
   "source": [
    "from ipycanvas import Canvas\n",
    "import turtle"
   ]
  },
  {
   "cell_type": "code",
   "execution_count": null,
   "metadata": {},
   "outputs": [],
   "source": [
    "canvas = Canvas(size=(200, 200))\n",
    "t = turtle.Turtle(canvas)\n",
    "canvas"
   ]
  },
  {
   "cell_type": "markdown",
   "metadata": {},
   "source": [
    "Het canvas is in eerste instantie leeg. Ook de her-initialisatie van de turtle, met `t.init()`, maakt het canvas weer leeg. Dit canvan kun je op meerdere plaatsen in het notebook laten zien. "
   ]
  },
  {
   "cell_type": "code",
   "execution_count": null,
   "metadata": {},
   "outputs": [],
   "source": [
    "t.forward(100)\n",
    "canvas"
   ]
  },
  {
   "cell_type": "markdown",
   "metadata": {},
   "source": [
    "In de rest van dit notebook gebruiken we steeds een \"vers\" Canvas: daarmee blijven de verschillende tussenstappen ook in het uiteidelijk volledig uitgevoerde notebook nog zichtbaar."
   ]
  },
  {
   "cell_type": "code",
   "execution_count": null,
   "metadata": {},
   "outputs": [],
   "source": [
    "def square(t, w):\n",
    "    for i in range(4):\n",
    "        t.forward(w)\n",
    "        t.right(90)\n",
    "    "
   ]
  },
  {
   "cell_type": "code",
   "execution_count": null,
   "metadata": {},
   "outputs": [],
   "source": [
    "canvas1 = Canvas(size=(200, 200))\n",
    "t1 = turtle.Turtle(canvas1)\n",
    "\n",
    "square(t1, 40)\n",
    "square(t1, 50)\n",
    "square(t1, 60)\n",
    "canvas1"
   ]
  },
  {
   "cell_type": "code",
   "execution_count": null,
   "metadata": {},
   "outputs": [],
   "source": [
    "def triangle(t, w):\n",
    "    ### BEGIN SOLUTION\n",
    "    for i in range(3):\n",
    "        t.forward(w)\n",
    "        t.right(120)   \n",
    "    ### END SOLUTION\n",
    "        "
   ]
  },
  {
   "cell_type": "code",
   "execution_count": null,
   "metadata": {},
   "outputs": [],
   "source": [
    "canvas2 = Canvas(size=(200, 200))\n",
    "t2 = turtle.Turtle(canvas2)\n",
    "\n",
    "triangle(t2, 40)\n",
    "triangle(t2, 50)\n",
    "triangle(t2, 60)\n",
    "canvas2"
   ]
  },
  {
   "cell_type": "code",
   "execution_count": null,
   "metadata": {},
   "outputs": [],
   "source": [
    "canvas3 = Canvas(size=(200, 200))\n",
    "t3 = turtle.Turtle(canvas3)\n",
    "\n",
    "t3.goto(-100,0)\n",
    "triangle(t3, 40)\n",
    "t3.pen_up()\n",
    "t3.forward(50)\n",
    "t3.pen_down()\n",
    "triangle(t3, 50)\n",
    "t3.forward(50)\n",
    "triangle(t3, 60)\n",
    "canvas3"
   ]
  },
  {
   "cell_type": "markdown",
   "metadata": {},
   "source": [
    "We kunnen de turtle op twee manieren verplaatsen zonder te tekenen: met `t.goto(x,y)`, naar een absolute positie; en door de pen van de turtle omhoog te doen voordat we een `forward` opdracht geven."
   ]
  },
  {
   "cell_type": "markdown",
   "metadata": {},
   "source": [
    "## Regelmatige veelhoeken\n",
    "\n",
    "We geven eerst een aantal voorbeelden van regelmatige veelhoeken.\n",
    "De opdracht is vervolgens om een functie te definiëren voor een willekeurige regelmatige veelhoek.\n",
    "\n",
    "* wat is de hoek waarover de turtle moet draaien in het geval van een 6-hoek? 8-hoek? n-hoek?\n",
    "\n",
    "Wat valt je op over de verhouding tussen de \"size\" en de \"straal\" van de veelhoek?\n"
   ]
  },
  {
   "cell_type": "code",
   "execution_count": null,
   "metadata": {},
   "outputs": [],
   "source": [
    "def hexagon(t, size):\n",
    "    for i in range(6):\n",
    "        t.forward(size)\n",
    "        ### BEGIN SOLUTION\n",
    "        t.right(60)\n",
    "        ### END SOLUTION"
   ]
  },
  {
   "cell_type": "code",
   "execution_count": null,
   "metadata": {},
   "outputs": [],
   "source": [
    "canvas4 = Canvas(size=(200, 200))\n",
    "t4 = turtle.Turtle(canvas4)\n",
    "\n",
    "hexagon(t4, 50)\n",
    "canvas4"
   ]
  },
  {
   "cell_type": "code",
   "execution_count": null,
   "metadata": {},
   "outputs": [],
   "source": [
    "def octagon(t, size):\n",
    "    for i in range(8):\n",
    "        t.forward(size)\n",
    "        ### BEGIN SOLUTION        \n",
    "        t.right(45)\n",
    "        ### END SOLUTION        "
   ]
  },
  {
   "cell_type": "code",
   "execution_count": null,
   "metadata": {},
   "outputs": [],
   "source": [
    "canvas5 = Canvas(size=(200, 200))\n",
    "t5 = turtle.Turtle(canvas5)\n",
    "\n",
    "t5.goto(0,-50)\n",
    "octagon(t5, 50)\n",
    "canvas5"
   ]
  },
  {
   "cell_type": "markdown",
   "metadata": {},
   "source": [
    "### Opdracht: maak een functie voor een regelmatige veelhoek\n",
    "\n",
    "Maak hieronder de functie voor een regelmatige veelhoek, met `n` hoeken, af.\n",
    "\n",
    "* hoe vaak moet de elementaire actie herhaald worden?\n",
    "* over welke hoek moet de turtle draaien?\n",
    "\n",
    "Test deze functie deze met de cel daaronder."
   ]
  },
  {
   "cell_type": "code",
   "execution_count": null,
   "metadata": {},
   "outputs": [],
   "source": [
    "def polygon(t, n, size):\n",
    "    ### BEGIN SOLUTION\n",
    "    for i in range(n):\n",
    "        t.forward(size)\n",
    "        t.right(360 / n)\n",
    "    ### END SOLUTION                "
   ]
  },
  {
   "cell_type": "code",
   "execution_count": null,
   "metadata": {},
   "outputs": [],
   "source": [
    "canvas6 = Canvas(size=(200, 200))\n",
    "t6 = turtle.Turtle(canvas6)\n",
    "\n",
    "t6.goto(0,-50)\n",
    "polygon(t6, 20, 15)\n",
    "canvas6"
   ]
  },
  {
   "cell_type": "markdown",
   "metadata": {},
   "source": [
    "### Opdracht: turtle met interactie\n",
    "\n",
    "Maak een programma-fragment voor het tekenen van een veelhoek, waarbij je het aantal hoeken en de stapgrootte met behulp van sliders kunt instellen."
   ]
  },
  {
   "cell_type": "markdown",
   "metadata": {},
   "source": [
    "## Spiralen\n",
    "\n",
    "We geven eerst een voorbeeld van een hoekige spiraal. Voor deze demonstratie gebruiken we ook een pauze tussen de verschillende tekenstappen."
   ]
  },
  {
   "cell_type": "code",
   "execution_count": null,
   "metadata": {},
   "outputs": [],
   "source": [
    "import time\n",
    "\n",
    "canvas10 = Canvas(size=(200, 200))\n",
    "t10 = turtle.Turtle(canvas10)\n",
    "display(canvas10)\n",
    "\n",
    "for i in range(20):\n",
    "    t10.forward(i*10)\n",
    "    t10.right(90)\n",
    "    time.sleep(1)\n"
   ]
  },
  {
   "cell_type": "markdown",
   "metadata": {},
   "source": [
    "### Opdracht\n",
    "\n",
    "Maak een grafiek van een \"gladde(re)\" spiraal, door andere waarden te kiezen voor `factor` en `angle`."
   ]
  },
  {
   "cell_type": "code",
   "execution_count": null,
   "metadata": {},
   "outputs": [],
   "source": [
    "import time\n",
    "\n",
    "canvas11 = Canvas(size=(200, 200))\n",
    "t11 = turtle.Turtle(canvas11)\n",
    "display(canvas11)\n",
    "\n",
    "factor = 5\n",
    "angle = 90\n",
    "\n",
    "for i in range(50):\n",
    "    t11.forward(i*factor)\n",
    "    t11.right(angle)\n",
    "    time.sleep(0.1)\n",
    "\n"
   ]
  },
  {
   "cell_type": "markdown",
   "metadata": {},
   "source": [
    "## Sterren\n",
    "\n",
    "Vraag: hoe groot moet de hoek zijn om een (regelmatige) ster met 5 punten te tekenen?\n"
   ]
  },
  {
   "cell_type": "code",
   "execution_count": null,
   "metadata": {},
   "outputs": [],
   "source": [
    "### BEGIN SOLUTION\n",
    "angle = 144\n",
    "### END SOLUTION\n",
    "\n",
    "def star(t, size):\n",
    "    for i in range(5):\n",
    "        t.forward(size)\n",
    "        t.right(angle)\n",
    "        "
   ]
  },
  {
   "cell_type": "code",
   "execution_count": null,
   "metadata": {},
   "outputs": [],
   "source": [
    "canvas20 = Canvas(size=(200, 200))\n",
    "t20 = turtle.Turtle(canvas20)\n",
    "display(canvas20)\n",
    "\n",
    "star(t20, 100)"
   ]
  },
  {
   "cell_type": "markdown",
   "metadata": {},
   "source": [
    "## Recursieve figuren: bomen\n",
    "\n",
    "Een boom bestaat uit een basisvorm die in zichzelf herhaald wordt:\n",
    "een tak heeft dezelfde vorm als een boom, alleen kleiner.\n",
    "\n",
    "We geven hier de definitie van een eenvoudige \"binaire\" boom: een boom bestaat uit een stam en twee takken in de vorm van een kleinere boom. Als de grootte van de boom te klein wordt, hoeven we die niet meer te tekenen.\n",
    "\n",
    "* We kiezen hier eerst voor takken onder een hoek van 45'; experimenteer met andere waarden\n",
    "* We kiezen hier eerst voor subbomen die een factor 0.7 kleiner zijn dan de moederboom zijn; experimenteer met andere waarden voor deze factor."
   ]
  },
  {
   "cell_type": "code",
   "execution_count": null,
   "metadata": {},
   "outputs": [],
   "source": [
    "def tree (t, size):\n",
    "    if size < 3:\n",
    "        return\n",
    "    t.forward(size)\n",
    "    t.left(45)\n",
    "    tree(t, size * 0.7)\n",
    "    t.right(90)\n",
    "    tree(t, size * 0.7)\n",
    "    t.right(135)\n",
    "    t.forward(size)\n",
    "    t.right(180)"
   ]
  },
  {
   "cell_type": "code",
   "execution_count": null,
   "metadata": {},
   "outputs": [],
   "source": [
    "canvas60 = Canvas(size=(200, 200))\n",
    "t60 = turtle.Turtle(canvas60)\n",
    "\n",
    "t60.goto(0,100)\n",
    "t60.left(90) # boom moet rechtop staan\n",
    "\n",
    "tree(t60, 50)\n",
    "canvas60"
   ]
  },
  {
   "cell_type": "markdown",
   "metadata": {},
   "source": [
    "### Opdrachten\n",
    "\n",
    "* maak een interactieve functie met sliders om met verschillende waarden te spelen, in het bijzonder met de hoek van de subbomen en de factor waarmee de subbomen verkleind worden.\n",
    "* experimenteer met asymmetrische bomen, bijvoorbeeld subbomen die onder verschillende hoeken staan."
   ]
  },
  {
   "cell_type": "code",
   "execution_count": null,
   "metadata": {},
   "outputs": [],
   "source": []
  },
  {
   "cell_type": "code",
   "execution_count": null,
   "metadata": {},
   "outputs": [],
   "source": []
  }
 ],
 "metadata": {
  "kernelspec": {
   "display_name": "Python 3",
   "language": "python",
   "name": "python3"
  },
  "language_info": {
   "codemirror_mode": {
    "name": "ipython",
    "version": 3
   },
   "file_extension": ".py",
   "mimetype": "text/x-python",
   "name": "python",
   "nbconvert_exporter": "python",
   "pygments_lexer": "ipython3",
   "version": "3.7.4"
  }
 },
 "nbformat": 4,
 "nbformat_minor": 2
}
