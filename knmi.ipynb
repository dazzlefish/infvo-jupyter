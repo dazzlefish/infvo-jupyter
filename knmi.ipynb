{
 "cells": [
  {
   "cell_type": "markdown",
   "metadata": {},
   "source": [
    "## Weerdata weergeven\n",
    "\n",
    "Dit Notebook is een voorbeeld van een eenvoudige data-toepassing. We halen weergegevens op van het KNMI, geven deze weer in een grafiek, en laten er eenvoudige statistiek op los."
   ]
  },
  {
   "cell_type": "markdown",
   "metadata": {},
   "source": [
    "## Ophalen van KNMI-data\n",
    "\n",
    "Het KNMI heeft veel gegevens beschikbaar als \"open data\": dat wil zeggen dat deze data voor iedereen (gratis) te gebruiken zijn. Deze gegevens kun je niet alleen op hun website bekijken, maar ook via een API ophalen. In dit geval is dat een URL die je op een bepaalde manier aanspreekt. Je krijgt dan als resultaat geen HTML-bestand, maar een CSV-bestand: een tabel in tekstvorm waarbij de waarden door komma's gescheiden worden.\n",
    "\n",
    "De beschrijving van de API vind je op de volgende pagina's:\n",
    "\n",
    "* https://www.knmi.nl/kennis-en-datacentrum/achtergrond/data-ophalen-vanuit-een-script"
   ]
  },
  {
   "cell_type": "markdown",
   "metadata": {},
   "source": [
    "### Python HTTP-requests\n",
    "\n",
    "In Python kun je een HTTP-request (verzoek) sturen naar een webserver, met behulp van de functies van de module `requests`. In dit geval hebben we een POST-request nodig. De gegevens (parameters) voor het verzoek kunnen we opgeven in de vorm van een Python dictionary; dit wordt omgezet in het juiste formaat voor het HTTP-protocol.\n",
    "\n",
    "> De beschrijving van deze module vind je op: https://2.python-requests.org/en/master/. Een korte uitleg voor de eerste stappen: https://2.python-requests.org/en/master/user/quickstart/#make-a-request\n",
    "\n",
    "Met de onderstaande opdracht halen we de gemiddelde, minimum en maximum temperaturen van de dagen in november 2019 op:"
   ]
  },
  {
   "cell_type": "code",
   "execution_count": null,
   "metadata": {
    "scrolled": true
   },
   "outputs": [],
   "source": [
    "import requests\n",
    "\n",
    "url = 'http://projects.knmi.nl/klimatologie/daggegevens/getdata_dag.cgi'\n",
    "myobj = {'stns': 260, 'start': '20191101', 'end': '20191130', 'vars': 'TEMP'}\n",
    "\n",
    "x = requests.post(url, data = myobj)\n",
    "\n",
    "print(x.text)"
   ]
  },
  {
   "cell_type": "markdown",
   "metadata": {},
   "source": [
    "Merk op dat we de temperaturen in eenheden van 0,1'Celcius krijgen, als gehele getallen. Voorlopig houden we dit zo: dat rekent soms wat gemakkelijker."
   ]
  },
  {
   "cell_type": "markdown",
   "metadata": {},
   "source": [
    "## Van CSV-tekstdata naar getallen\n",
    "\n",
    "Deze data moeten we nu eerst omzetten in een formaat dat we kunnen gebruiken om te rekenen. We kunnen hiervoor eventueel een speciale module gebruiken, maar het is niet zo lastig om de omzetting zelf te schrijven. \n",
    "\n",
    "> Voor grote bestanden is het gebruik van de voorgedefinieerde functies efficiënter; we gebruiken hier maar een klein bestand.\n",
    "\n",
    "> We gebruiken voor elk soort temperatuur een afzonderlijk array. In numpy/pandas kunnen we dat fraaier oplossen,  dat komt later aan bod."
   ]
  },
  {
   "cell_type": "code",
   "execution_count": null,
   "metadata": {},
   "outputs": [],
   "source": [
    "def read_temperatures (txt):\n",
    "    temps = []\n",
    "    max_temps = []\n",
    "    min_temps = []\n",
    "    for line in txt.splitlines():\n",
    "        if line[0] != '#':                  # skip comment lines\n",
    "            elems = line.split(',')         # comma separated values\n",
    "            temps.append(int(elems[2]))     # average temp\n",
    "            max_temps.append(int(elems[5])) # max temp\n",
    "            min_temps.append(int(elems[3])) # min temp\n",
    "    return {'temps': temps, 'min_temps': min_temps, 'max_temps': max_temps}"
   ]
  },
  {
   "cell_type": "code",
   "execution_count": null,
   "metadata": {},
   "outputs": [],
   "source": [
    "all_temps = read_temperatures(x.text)\n",
    "print(all_temps)"
   ]
  },
  {
   "cell_type": "markdown",
   "metadata": {},
   "source": [
    "## Grafiek\n",
    "\n",
    "Deze temperaturen geven we vervolgens weer in een grafiek. \n",
    "Hiervoor zetten we de invoerwaarden eerst om in numpy-arrays."
   ]
  },
  {
   "cell_type": "code",
   "execution_count": null,
   "metadata": {},
   "outputs": [],
   "source": [
    "import numpy\n",
    "from matplotlib import pyplot\n",
    "%matplotlib inline"
   ]
  },
  {
   "cell_type": "code",
   "execution_count": null,
   "metadata": {},
   "outputs": [],
   "source": [
    "x = numpy.arange(1, len(all_temps['temps'])+1)\n",
    "temps = numpy.asarray(all_temps['temps'])\n",
    "max_temps = numpy.asarray(all_temps['max_temps'])\n",
    "min_temps = numpy.asarray(all_temps['min_temps'])"
   ]
  },
  {
   "cell_type": "markdown",
   "metadata": {},
   "source": [
    "De grafiek bestaat uit 3 deel-plots, voor minimum, maximum en gemiddelde temperaturen.\n",
    "Voor elke deel-plot gebruiken we dezelde x-waarden: de dagnummers van 1-30."
   ]
  },
  {
   "cell_type": "code",
   "execution_count": null,
   "metadata": {},
   "outputs": [],
   "source": [
    "pyplot.title(\"Temperaturen in De Bilt - nov. 2019\")\n",
    "tgem, = pyplot.plot(x, temps, 'g')\n",
    "tmax, = pyplot.plot(x, max_temps, 'r')\n",
    "tmin, = pyplot.plot(x, min_temps, 'b')\n",
    "pyplot.legend([tgem, tmax, tmin], ['gem', 'max', 'min'])"
   ]
  },
  {
   "cell_type": "markdown",
   "metadata": {},
   "source": [
    "We kunnen de deelplots ook in één enkele aanroep van `pyplot.plot` combineren, zie hieronder."
   ]
  },
  {
   "cell_type": "code",
   "execution_count": null,
   "metadata": {},
   "outputs": [],
   "source": [
    "lines  = pyplot.plot(x, temps, 'g', x, max_temps, 'r', x, min_temps, 'b')\n",
    "pyplot.legend(lines, ['gem', 'max', 'min'])"
   ]
  },
  {
   "cell_type": "markdown",
   "metadata": {},
   "source": [
    "## Opdrachten\n",
    "\n",
    "Met \"dagtemperatuur\" bedoelen we hieronder de gemiddelde temperatuur van een dag.\n",
    "\n",
    "1. bepaal de gemiddelde dagtemperatuur van november\n",
    "2. bepaal de mediaan dagtemperatuur van november\n",
    "3. bepaal de maximum dagtemperatuur van november\n",
    "4. bepaal de minimum dagtemperatuur van november"
   ]
  },
  {
   "cell_type": "code",
   "execution_count": null,
   "metadata": {},
   "outputs": [],
   "source": []
  },
  {
   "cell_type": "markdown",
   "metadata": {},
   "source": [
    "## Opdrachten\n",
    "\n",
    "1. haal de temperaturen van een andere maand van het knmi, en teken deze in een grafiek\n",
    "2. bepaal de gemiddelde, mediaan, maximum en minimum van deze maand\n",
    "3. heeft het zin om het temperatuurverloop van oktober te vergelijken met dat van november? (Kun je deze eenvoudig in eenzelfde grafiek plaatsen?)\n",
    "4. heeft het zin om het temperatuurverloop van november te vergelijken met dat van een jaar eerder?"
   ]
  },
  {
   "cell_type": "markdown",
   "metadata": {},
   "source": [
    "## Opmerkingen\n",
    "\n",
    "* twee maanden met eenzelfde gemiddelde temperatuur kunnen een heel verschillend temperatuur-karakter hebben. Waarin kunnen deze verschillen, en hoe zou je dat kunnen beschrijven in een getal?\n",
    "* "
   ]
  },
  {
   "cell_type": "markdown",
   "metadata": {},
   "source": [
    "## Gevorderde opdrachten\n",
    "\n",
    "* bepaal de gemiddelde temperatuur van de maand januari van de afgelopen eeuw in De Bilt, en geef die weer in een grafiek.\n"
   ]
  },
  {
   "cell_type": "code",
   "execution_count": null,
   "metadata": {},
   "outputs": [],
   "source": []
  }
 ],
 "metadata": {
  "kernelspec": {
   "display_name": "Python 3",
   "language": "python",
   "name": "python3"
  },
  "language_info": {
   "codemirror_mode": {
    "name": "ipython",
    "version": 3
   },
   "file_extension": ".py",
   "mimetype": "text/x-python",
   "name": "python",
   "nbconvert_exporter": "python",
   "pygments_lexer": "ipython3",
   "version": "3.7.4"
  }
 },
 "nbformat": 4,
 "nbformat_minor": 4
}
