{
 "cells": [
  {
   "cell_type": "markdown",
   "metadata": {},
   "source": [
    "# Verwerken van experimentele data\n",
    "\n",
    "In dit notebook geven we een voorbeeld van het verwerken van experimentele data.\n",
    "\n",
    "* de meetgegevens vullen we direct in in een Python tabel; dit kan ook op veel andere manieren, bijvoorbeeld door deze uit een tekstbestand in te lezen.\n",
    "* deze tabel geven we weer als pandas-tabel; \n",
    "* we gebruiken matplotlib voor het tekenen van een grafiek, met een raster voor het lezen van de waarden uit de grafiek;\n",
    "* we gebruiken lineaire regressie voor het bepalen van het lineaire verband tussen de meetwaarden;\n",
    "* hiermee tekenen we de benaderende funcie\n",
    "\n",
    "Als voorbeeld gebruiken we een (fictieve) meting aan een weerstand, met een spanningsmeter parallel aan de weerstand, en een stroommeter in serie met de weerstand. De voeding van de schakeling kunnen we regelen: we meten de spanning en de stroom bij een aantal verschillende instellingen van de voeding."
   ]
  },
  {
   "cell_type": "markdown",
   "metadata": {},
   "source": [
    "We gebruiken de volgende libraries: "
   ]
  },
  {
   "cell_type": "code",
   "execution_count": null,
   "metadata": {},
   "outputs": [],
   "source": [
    "%matplotlib inline\n",
    "import matplotlib.pyplot as plt\n",
    "import numpy as np\n",
    "import ipysheet\n",
    "import ipywidgets as widgets\n",
    "import pandas as pd"
   ]
  },
  {
   "cell_type": "markdown",
   "metadata": {},
   "source": [
    "## De experimentele data\n",
    "\n",
    "De variabele `measurements` bevat de experimentele data: een array van (spanning, stroom)-metingen.\n",
    "De spanning is in 0.1V, de stroom in mA.\n",
    "\n",
    "> *Opmerking*: dit moet nog aangepast worden naar \"fatsoenlijke eenheden\", maar dat leverde in eerste instantie problemen met de assen van de grafieken. Nog uitzoeken hoe dat beter kan!\n"
   ]
  },
  {
   "cell_type": "code",
   "execution_count": null,
   "metadata": {},
   "outputs": [],
   "source": [
    "measurements = np.array([ [10.0, 15.1], [20.0, 19.7], [30.0, 29.5], [40.0, 39.5],[50.0, 51.2]])"
   ]
  },
  {
   "cell_type": "markdown",
   "metadata": {},
   "source": [
    "We geven deze meetwaarden weer als tabel. Voor tabellen is pandas een handige en flexibele library."
   ]
  },
  {
   "cell_type": "code",
   "execution_count": null,
   "metadata": {},
   "outputs": [],
   "source": [
    "data = pd.DataFrame(data = measurements, columns=[\"U\", 'I'])\n",
    "data"
   ]
  },
  {
   "cell_type": "markdown",
   "metadata": {},
   "source": [
    "De variabelen `measured_u` en `measured_v` zijn de kolommen met de gemeten spanning en stroom. We gebruiken deze bijvoorbeeld voor de x- en y-waarden in de grafiek."
   ]
  },
  {
   "cell_type": "code",
   "execution_count": null,
   "metadata": {},
   "outputs": [],
   "source": [
    "measured_u = measurements[:,0]\n",
    "measured_i = measurements[:,1]"
   ]
  },
  {
   "cell_type": "markdown",
   "metadata": {},
   "source": [
    "### Sheet voor uitvoer/invoer\n",
    "\n",
    "Met behulp van een sheet kunnen we de gegevens weergeven.\n",
    "We kunnen via dit sheet de data aanpassen.\n",
    "\n",
    "> In een meer bruikbare versie kunnen we zo'n sheet gebruiken voor de invoer van de data. De data kunnen we dan bewaren in een bestand, dat we een volgende keer weer inlezen in het notebook. Op die manier scheiden we de data van het notebook."
   ]
  },
  {
   "cell_type": "code",
   "execution_count": null,
   "metadata": {},
   "outputs": [],
   "source": [
    "sheet = ipysheet.from_dataframe(data)\n",
    "sheet"
   ]
  },
  {
   "cell_type": "code",
   "execution_count": null,
   "metadata": {},
   "outputs": [],
   "source": [
    "df = ipysheet.to_dataframe(sheet)\n",
    "measured_u = df['U'].values\n",
    "measured_i = df['I'].values"
   ]
  },
  {
   "cell_type": "markdown",
   "metadata": {},
   "source": [
    "## De grafiek\n",
    "\n",
    "Met behulp van matplotlib maken we een grafiek van deze experimentele data.\n"
   ]
  },
  {
   "cell_type": "code",
   "execution_count": null,
   "metadata": {},
   "outputs": [],
   "source": [
    "def make_plot1(x, y):\n",
    "\n",
    "    fig, ax = plt.subplots(figsize=(8, 8))\n",
    "\n",
    "    plt.axis(\"equal\") # for square grid (correct angles)\n",
    "    plt.xlabel(\"U (0.1 V)\")\n",
    "    plt.ylabel(\"I (mA)\")\n",
    "    plt.title(\"I as function of V for resistor R\")\n",
    "    \n",
    "    # Major ticks every 2 minor ticks every 1\n",
    "    major_ticks = np.arange(0, 60, 5)\n",
    "    minor_ticks = np.arange(0, 60, 1)\n",
    "\n",
    "    ax.set_xticks(major_ticks)\n",
    "    ax.set_xticks(minor_ticks, minor=True)\n",
    "    ax.set_yticks(major_ticks)\n",
    "    ax.set_yticks(minor_ticks, minor=True)\n",
    "\n",
    "    # And a corresponding grid\n",
    "    plt.grid(which='minor', color=\"b\", alpha=0.2)\n",
    "    plt.grid(which='major', color='b', alpha=0.6)\n",
    "    \n",
    "    plt.ylim(0, 60)\n",
    "    plt.xlim(0, 60)\n",
    "\n",
    "    plt.plot(x, y, 'ro') # de meetpunten.\n",
    "    \n",
    "    # plt.grid(True)\n",
    "    plt.show()"
   ]
  },
  {
   "cell_type": "code",
   "execution_count": null,
   "metadata": {},
   "outputs": [],
   "source": [
    "make_plot1(measured_u, measured_i)"
   ]
  },
  {
   "cell_type": "code",
   "execution_count": null,
   "metadata": {},
   "outputs": [],
   "source": []
  },
  {
   "cell_type": "markdown",
   "metadata": {},
   "source": [
    "## Lineaire regressie: best passende lijn"
   ]
  },
  {
   "cell_type": "markdown",
   "metadata": {},
   "source": [
    "Met behulp van lineaire regressie bepalen we de best-passende lijn door deze meetpunten.\n",
    "Het punt (0,0) ligt vast: we weten zeker dat als de spanning 0 is, de stroom ook 0 zal zijn.\n",
    "We gebruiken dus een vorm van lineaire regressie waarbij de \"intercept\", het snijpunt met de y-as, vastligt (op 0).\n",
    "Dit is een toepassing van de \"kleinste kwadraten methode\". \n",
    "(Zie: "
   ]
  },
  {
   "cell_type": "code",
   "execution_count": null,
   "metadata": {},
   "outputs": [],
   "source": [
    "x = measured_u[:,np.newaxis]\n",
    "y = measured_i\n",
    "a, _, _, _ = np.linalg.lstsq(x, y, rcond=None)\n",
    "a"
   ]
  },
  {
   "cell_type": "code",
   "execution_count": null,
   "metadata": {},
   "outputs": [],
   "source": [
    "r = a[0]\n",
    "r"
   ]
  },
  {
   "cell_type": "markdown",
   "metadata": {},
   "source": [
    "De waarde `a[0]` is de gezochte coefficient $R$ in $U = R \\times I$: de waarde van de weerstand. Omdat we de spanning gemeten hebben in 0.1V en de stroom in mA, is de waarde van de weerstand: R = r * 100 (Ohm)."
   ]
  },
  {
   "cell_type": "code",
   "execution_count": null,
   "metadata": {},
   "outputs": [],
   "source": [
    "print(\"De weerstand R is \", \"{:.1f}\".format(r * 100) , ' Ohm')"
   ]
  },
  {
   "cell_type": "markdown",
   "metadata": {},
   "source": [
    "## Grafiek met benaderende lijn\n",
    "\n",
    "We geven hieronder de grafiek met de meetpunten en de lijn die we bepaald hebben met behulp van lineaire regressie."
   ]
  },
  {
   "cell_type": "code",
   "execution_count": null,
   "metadata": {},
   "outputs": [],
   "source": [
    "def make_plot2(x, y, a):\n",
    "\n",
    "    fig, ax = plt.subplots(figsize=(8, 8))\n",
    "\n",
    "    plt.axis(\"equal\") # for square grid (correct angles)\n",
    "    plt.xlabel(\"U (0.1 V)\")\n",
    "    plt.ylabel(\"I (mA)\")\n",
    "    \n",
    "    # Major ticks every 2 minor ticks every 1\n",
    "    major_ticks = np.arange(0, 60, 5)\n",
    "    minor_ticks = np.arange(0, 60, 1)\n",
    "\n",
    "    ax.set_xticks(major_ticks)\n",
    "    ax.set_xticks(minor_ticks, minor=True)\n",
    "    ax.set_yticks(major_ticks)\n",
    "    ax.set_yticks(minor_ticks, minor=True)\n",
    "\n",
    "    # And a corresponding grid\n",
    "    plt.grid(which='minor', color=\"b\", alpha=0.2)\n",
    "    plt.grid(which='major', color='b', alpha=0.6)\n",
    "    \n",
    "    plt.ylim(0, 60)\n",
    "    plt.xlim(0, 60)\n",
    "\n",
    "    plt.plot(x, y, 'ro') # de meetpunten.\n",
    "    pts = np.arange(0, 60, 1)\n",
    "    plt.plot(pts, a * pts, 'b-')\n",
    "    plt.suptitle(\"I as function of V for resistor R\")\n",
    "    \n",
    "    # plt.grid(True)\n",
    "    plt.show()"
   ]
  },
  {
   "cell_type": "code",
   "execution_count": null,
   "metadata": {},
   "outputs": [],
   "source": [
    "make_plot2(measured_u, measured_i, a)"
   ]
  },
  {
   "cell_type": "markdown",
   "metadata": {},
   "source": [
    "## Opdracht\n",
    "\n",
    "* welke meting valt uit de toon?\n",
    "* heb je een verklaring voor deze meetfout?\n",
    "* herhaal deze meting, vul de nieuwe waarde in, en herhaal de berekeningen.\n",
    "* welk verschil maakt dit voor bepaalde waarde van de weerstand?\n"
   ]
  },
  {
   "cell_type": "code",
   "execution_count": null,
   "metadata": {},
   "outputs": [],
   "source": []
  }
 ],
 "metadata": {
  "kernelspec": {
   "display_name": "Python 3",
   "language": "python",
   "name": "python3"
  },
  "language_info": {
   "codemirror_mode": {
    "name": "ipython",
    "version": 3
   },
   "file_extension": ".py",
   "mimetype": "text/x-python",
   "name": "python",
   "nbconvert_exporter": "python",
   "pygments_lexer": "ipython3",
   "version": "3.7.4"
  }
 },
 "nbformat": 4,
 "nbformat_minor": 2
}
