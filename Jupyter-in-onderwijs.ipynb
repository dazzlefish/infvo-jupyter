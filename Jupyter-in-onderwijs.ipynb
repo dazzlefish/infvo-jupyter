{
 "cells": [
  {
   "cell_type": "markdown",
   "metadata": {
    "slideshow": {
     "slide_type": "slide"
    }
   },
   "source": [
    "# Jupyter notebooks in het onderwijs"
   ]
  },
  {
   "cell_type": "markdown",
   "metadata": {
    "slideshow": {
     "slide_type": "slide"
    }
   },
   "source": [
    "## Jupyter in het onderwijs\n",
    "\n",
    "* \"Teaching and Learning with Jupyter\":\n",
    "https://jupyter4edu.github.io/jupyter-edu-book/\n",
    "* interactieve boeken (o.a. Jupyter book)\n",
    "* interactieve cellen (Thebelab)"
   ]
  },
  {
   "cell_type": "markdown",
   "metadata": {
    "slideshow": {
     "slide_type": "skip"
    }
   },
   "source": [
    "* interactieve boeken\n",
    "    * Notebook als interactief boek\n",
    "    * Website met interactieve Jupyter-cellen\n",
    "    * Jupyter book\n",
    "* nbgrader\n",
    "    * Notebook met opdrachten\n",
    "    * automatisch testen van programmeer-opdrachten\n",
    "    * handmatige correcties\n",
    "    * feedback\n",
    "* overzicht: \n",
    "    * \"Teaching and Learning with Jupyter\":\n",
    "    * https://jupyter4edu.github.io/jupyter-edu-book/\n",
    "    * algemene opmerkingen"
   ]
  },
  {
   "cell_type": "markdown",
   "metadata": {
    "slideshow": {
     "slide_type": "slide"
    }
   },
   "source": [
    "## Jupyter voor onderwijs\n",
    "\n",
    "* interactieve boeken: \n",
    "    * interactie: uitvoeren van voorgeprogrammeerde experimenten, met feedback\n",
    "    * experimenteren, exploratie: aanpassen van berekeningen, simulaties, e.d.\n",
    "    * uitgewerkte voorbeelden\n",
    "* als notebook, of\n",
    "* via Jupyter Book - https://jupyterbook.org\n",
    "    "
   ]
  },
  {
   "cell_type": "markdown",
   "metadata": {
    "slideshow": {
     "slide_type": "slide"
    }
   },
   "source": [
    "## Actief lesmateriaal\n",
    "\n",
    "* actief lesmateriaal - met scaffolding op maat\n",
    "    * de student moet zelf problemen oplossen,\n",
    "    * mogelijk op basis van een een half-uitgewerkt voorbeeld\n",
    "    * geleidelijke overgang tussen volledig uitgewerkt voorbeeld en volledig zelf uitwerken"
   ]
  },
  {
   "cell_type": "markdown",
   "metadata": {
    "slideshow": {
     "slide_type": "slide"
    }
   },
   "source": [
    "## nbgrader\n",
    "\n",
    "* nbgrader\n",
    "    * https://nbgrader.readthedocs.io/\n",
    "    * omgeving voor uitdelen en nakijken van opdrachten\n",
    "    * met autograding (via testprogramma's)"
   ]
  },
  {
   "cell_type": "markdown",
   "metadata": {
    "slideshow": {
     "slide_type": "slide"
    }
   },
   "source": [
    "## Lab-boek van experimenten\n",
    "\n",
    "* verslaglegging van experimenten\n",
    "    * bijv. op basis van template\n",
    "* uitwerken en presenteren van resultaten"
   ]
  },
  {
   "cell_type": "markdown",
   "metadata": {
    "slideshow": {
     "slide_type": "slide"
    }
   },
   "source": [
    "## Voorbeelden van onderwijs-notebooks\n",
    "\n",
    "* https://github.com/jupyter/jupyter/wiki/A-gallery-of-interesting-Jupyter-Notebooks\n",
    "    * https://nbviewer.jupyter.org/github/engineersCode/EngComp3_tourdynamics/blob/master/notebooks_en/1_Catch_Motion.ipynb\n",
    "* https://github.com/norvig/pytudes#pytudes-index-of-jupyter-ipython-notebooks\n"
   ]
  },
  {
   "cell_type": "markdown",
   "metadata": {
    "slideshow": {
     "slide_type": "slide"
    }
   },
   "source": [
    "## Thebelab: webpagina's met (inter)actieve cellen\n",
    "\n",
    "* https://thebelab.readthedocs.io\n",
    "* Jupyter cellen in een \"normale\" website, ook statisch\n",
    "* met knop voor activeren - via exteren server (bijv. Binder)"
   ]
  },
  {
   "cell_type": "markdown",
   "metadata": {
    "slideshow": {
     "slide_type": "notes"
    }
   },
   "source": [
    "## Organisatie van het materiaal\n",
    "\n",
    "* meerdere notebooks: gebruik een apart notebook als inhoudsopgave\n",
    "* "
   ]
  },
  {
   "cell_type": "markdown",
   "metadata": {
    "slideshow": {
     "slide_type": "notes"
    }
   },
   "source": [
    "## Catalogus van educatieve patronen\n",
    "\n",
    "* eenvoudige interactie (uitvoeren van uitgewerkte voorbeelden; sliders e.d.)\n",
    "* invuloefeningen (uitgebreide scaffolding)\n",
    "* \"hele probleem eerst\"\n",
    "* NB: symbolic math (SymPi)\n",
    "* gebruik van \"echte\" open data (in plaats van kunstmatige voorbeelden)\n",
    "* publiceren van notebooks\n",
    "* programmeren:\n",
    "    * test-driven development/adverserial programming\n",
    "    * code reviews\n",
    "    * zoek de fout\n",
    "    \n",
    "(Zie het overzicht in Teaching and Learning with Jupyter.)\n"
   ]
  },
  {
   "cell_type": "markdown",
   "metadata": {
    "slideshow": {
     "slide_type": "slide"
    }
   },
   "source": [
    "## Jupyter-hosting \n",
    "\n",
    "* eigen laptop (bijv. met Anaconda)\n",
    "* eigen server (bijv. via The Littlest Jupyterhub)\n",
    "    * https://tljh.jupyter.org/en/latest/\n",
    "* Binder - voor eenvoudige interactieve notebooks\n",
    "* Google Colaboratory\n",
    "    * integratie met Google Drive\n",
    "* Microsoft Azure (https://notebooks.azure.com)    \n",
    "* SageMath (sagemath.org - **niet gratis**)\n",
    "* ...\n"
   ]
  },
  {
   "cell_type": "code",
   "execution_count": null,
   "metadata": {},
   "outputs": [],
   "source": []
  }
 ],
 "metadata": {
  "celltoolbar": "Slideshow",
  "kernelspec": {
   "display_name": "Python 3",
   "language": "python",
   "name": "python3"
  },
  "language_info": {
   "codemirror_mode": {
    "name": "ipython",
    "version": 3
   },
   "file_extension": ".py",
   "mimetype": "text/x-python",
   "name": "python",
   "nbconvert_exporter": "python",
   "pygments_lexer": "ipython3",
   "version": "3.7.4"
  }
 },
 "nbformat": 4,
 "nbformat_minor": 4
}
