{
 "cells": [
  {
   "cell_type": "markdown",
   "metadata": {},
   "source": [
    "## Git-opdrachten\n",
    "\n",
    "Dit notebook bevat een aantal git-opdrachten waarmee je je repository van notebooks op GitHub kunt bewaren of aanpassen.\n",
    "\n",
    "Je moet de opdrachten wel steeds aanpassen aan de situatie.\n",
    "\n",
    "Voor het maken van een nieuw repository op GitHub, helemaal leeg of vanuit bestaande bestanden, zie: https://kbroman.org/github_tutorial/pages/init.html"
   ]
  },
  {
   "cell_type": "markdown",
   "metadata": {},
   "source": [
    "## Git init\n",
    "\n",
    "Met de opdracht `git init` maak je een nieuw repository aan in de huidige directory. Dit gebruik je als je met een nieuw repository wilt beginnen, of als je de lokale bestanden als beginpunt van een repository wilt gebruiken.\n",
    "\n",
    "```\n",
    "git init\n",
    "```"
   ]
  },
  {
   "cell_type": "markdown",
   "metadata": {},
   "source": [
    "## Git clone\n",
    "\n",
    "Met `git clone` maak je een lokale kopie van een repository.\n",
    "Voorbeeld:\n",
    "```\n",
    "git clone https://github.com/eelcodijkstra/infvo-jupyter.git\n",
    "```\n",
    "In de rest van dit notebook veronderstellen we dat infvo-jupyter de huidige directory is.\n",
    "```\n",
    "cd infvo-jupyter\n",
    "```"
   ]
  },
  {
   "cell_type": "code",
   "execution_count": 1,
   "metadata": {},
   "outputs": [
    {
     "name": "stdout",
     "output_type": "stream",
     "text": [
      "/home/hans/infvo-jupyter\r\n"
     ]
    }
   ],
   "source": [
    "!pwd"
   ]
  },
  {
   "cell_type": "markdown",
   "metadata": {},
   "source": [
    "## Git add\n",
    "\n",
    "Je gebruikt de `git add <filename>` opdracht om een veranderd lokaal bestand aan de volgende versie van het repository toe te voegen. Voorbeeld:\n",
    "\n",
    "```\n",
    "git add git-opdrachten.ipynb\n",
    "```\n",
    "Opmerking: alleen bestanden die op deze manier toegevoegd zijn worden in de volgende versie meegenomen. "
   ]
  },
  {
   "cell_type": "code",
   "execution_count": 4,
   "metadata": {},
   "outputs": [],
   "source": [
    "!git add git-opdrachten.ipynb"
   ]
  },
  {
   "cell_type": "markdown",
   "metadata": {},
   "source": [
    "## Git commit\n",
    "\n",
    "Met `git commit` maak je de volgende versie van het repository aan. Het is gebruikelijk/wenselijk om daar steeds een korte beschrijving aan toe te voegen, wat deze verandering inhoudt. Eventueel kun je daarnaast ook een langere beschrijving toevoegen. Voorbeeld:\n",
    "\n",
    "```\n",
    "git commit -m\"Add notebook for git commands\"\n",
    "```\n",
    "\n",
    "Voor het formuleren van commit-beschrijvingen: https://chris.beams.io/posts/git-commit/"
   ]
  },
  {
   "cell_type": "code",
   "execution_count": 6,
   "metadata": {},
   "outputs": [
    {
     "name": "stdout",
     "output_type": "stream",
     "text": [
      "[master 11be16d] Add git-opdrachten\n",
      " Committer: Hans Student <hans@infvo-9.c.infvo-1364.internal>\n",
      "Your name and email address were configured automatically based\n",
      "on your username and hostname. Please check that they are accurate.\n",
      "You can suppress this message by setting them explicitly. Run the\n",
      "following command and follow the instructions in your editor to edit\n",
      "your configuration file:\n",
      "\n",
      "    git config --global --edit\n",
      "\n",
      "After doing this, you may fix the identity used for this commit with:\n",
      "\n",
      "    git commit --amend --reset-author\n",
      "\n",
      " 1 file changed, 231 insertions(+)\n",
      " create mode 100644 git-opdrachten.ipynb\n"
     ]
    }
   ],
   "source": [
    "%%bash\n",
    "git commit -m\"Add git-opdrachten\""
   ]
  },
  {
   "cell_type": "markdown",
   "metadata": {},
   "source": [
    "## Git status\n",
    "\n",
    "Met `git status` kun je de huidige toestand opvragen, in het bijzonder, welke lokale bestanden nog niet toegevoegd (`add`) aan de nieuwe versie van het repository."
   ]
  },
  {
   "cell_type": "code",
   "execution_count": 5,
   "metadata": {},
   "outputs": [
    {
     "name": "stdout",
     "output_type": "stream",
     "text": [
      "On branch master\n",
      "Your branch is up to date with 'origin/master'.\n",
      "\n",
      "Changes to be committed:\n",
      "  (use \"git reset HEAD <file>...\" to unstage)\n",
      "\n",
      "\tnew file:   git-opdrachten.ipynb\n",
      "\n",
      "Untracked files:\n",
      "  (use \"git add <file>...\" to include in what will be committed)\n",
      "\n",
      "\t.ipynb_checkpoints/\n",
      "\n"
     ]
    }
   ],
   "source": [
    "%%bash\n",
    "git status"
   ]
  },
  {
   "cell_type": "code",
   "execution_count": 11,
   "metadata": {},
   "outputs": [
    {
     "name": "stdout",
     "output_type": "stream",
     "text": [
      "/home/hans\r\n"
     ]
    }
   ],
   "source": [
    "%%bash"
   ]
  },
  {
   "cell_type": "markdown",
   "metadata": {},
   "source": [
    "## Git remote add\n",
    "\n",
    "Met de opdracht `git remote add` voeg je een verbinding met een extern repository toe, gegeven door een URL. Je geeft deze externe repository een lokale naam, bijvoorbeeld \"origin\". Deze naam gebruik je in de opdrachten om het lokale repository te synchroniseren met het externe (via `fetch` en `push`).\n",
    "```\n",
    "git remote add origin https://github.com/username/new_repo\n",
    "```"
   ]
  },
  {
   "cell_type": "markdown",
   "metadata": {},
   "source": [
    "## Git push\n",
    "\n",
    "Synchroniseer de nieuwe versie van het lokale repository naar de externe versie.\n",
    "\n",
    "```\n",
    "git push -u origin master\n",
    "```\n",
    "Hierin is `origin` de lokale naam van de externe repository, en `master` de naam van de branch de beide (lokale en remote) repositories."
   ]
  },
  {
   "cell_type": "markdown",
   "metadata": {},
   "source": [
    "## Git pull\n",
    "\n",
    "Synchroniseer het externe repository naar het lokale repository. Hierbij worden mogelijk lokale wijzigingen overschreven! Je kunt van te voren controleren wat de globale veranderingen zijn ten opzichte van de lokale, door `git fetch` en `git diff`. `git pull` bestaat eigenlijk uit `git fetch` gevolgd door `git merge`, waarbij de globale wijzigingen en de lokale wijzigingen gecombineerd worden.\n",
    "\n",
    "```\n",
    "git pull origin \n",
    "```\n",
    "\n",
    "\n",
    "* git fetch is the command that says \"bring my local copy of the remote repository up to date.\"\n",
    "* git pull says \"bring the changes in the remote repository to where I keep my own code.\""
   ]
  },
  {
   "cell_type": "markdown",
   "metadata": {},
   "source": [
    "## Meer informatie\n",
    "\n",
    "\n",
    "* https://www.atlassian.com/git/tutorials"
   ]
  },
  {
   "cell_type": "code",
   "execution_count": null,
   "metadata": {},
   "outputs": [],
   "source": []
  }
 ],
 "metadata": {
  "kernelspec": {
   "display_name": "Python 3",
   "language": "python",
   "name": "python3"
  },
  "language_info": {
   "codemirror_mode": {
    "name": "ipython",
    "version": 3
   },
   "file_extension": ".py",
   "mimetype": "text/x-python",
   "name": "python",
   "nbconvert_exporter": "python",
   "pygments_lexer": "ipython3",
   "version": "3.7.4"
  }
 },
 "nbformat": 4,
 "nbformat_minor": 2
}
